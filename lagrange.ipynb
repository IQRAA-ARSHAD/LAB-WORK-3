{
 "cells": [
  {
   "cell_type": "markdown",
   "id": "5c166892",
   "metadata": {},
   "source": [
    "# lagrange interpolatin method 1"
   ]
  },
  {
   "cell_type": "code",
   "execution_count": 17,
   "id": "6e8d04c4",
   "metadata": {},
   "outputs": [
    {
     "name": "stdout",
     "output_type": "stream",
     "text": [
      "enter the value of x:15\n",
      "for x= 15.00, y=7.276979\n"
     ]
    }
   ],
   "source": [
    "x=[0,10,20,55,90]\n",
    "y=[1,6,8,9,15]\n",
    "\n",
    "m=len(x)\n",
    "n= m - 1\n",
    "\n",
    "xp=float(input(\"enter the value of x:\"))\n",
    "yp=0\n",
    "for i in range(n+1):\n",
    "    p=1\n",
    "    for j in range(n+1):\n",
    "        if j != i:\n",
    "            p *= (xp-x[j])/(x[i]-x[j])\n",
    "    yp += y[i]*p\n",
    "print('for x= %.2f, y=%f'%(xp,yp))\n",
    "    \n",
    "        \n"
   ]
  },
  {
   "cell_type": "markdown",
   "id": "a9d5dda8",
   "metadata": {},
   "source": [
    "# lagrange interpolation method 2"
   ]
  },
  {
   "cell_type": "code",
   "execution_count": 16,
   "id": "cfbd0986",
   "metadata": {},
   "outputs": [
    {
     "name": "stdout",
     "output_type": "stream",
     "text": [
      "Enter the value of x:15\n",
      "for x= 15.00, y=7.276979\n"
     ]
    }
   ],
   "source": [
    "import numpy as np\n",
    "\n",
    "\n",
    "x = np.array([0,10,20,55,90],float)\n",
    "y = np.array([1,6,8,9,15],float)\n",
    "\n",
    " \n",
    "\n",
    "xp = float(input('Enter the value of x:'))\n",
    "yp = 0\n",
    "\n",
    "\n",
    "\n",
    "\n",
    "for xi,yi in zip(x,y):\n",
    "    yp += yi * np.prod((xp - x[x !=xi])/(xi - x[x !=xi]))\n",
    "print('for x= %.2f, y=%f'%(xp,yp))\n",
    "    \n",
    "\n"
   ]
  },
  {
   "cell_type": "code",
   "execution_count": 15,
   "id": "bf4db54b",
   "metadata": {},
   "outputs": [
    {
     "name": "stdout",
     "output_type": "stream",
     "text": [
      "11\n",
      "12\n",
      "13\n",
      "14\n",
      "15\n",
      "16\n",
      "17\n",
      "18\n",
      "19\n",
      "20\n"
     ]
    }
   ],
   "source": [
    "a=10\n",
    "for i in range(a):\n",
    "    a= a+1\n",
    "    print(a)  "
   ]
  }
 ],
 "metadata": {
  "kernelspec": {
   "display_name": "Python 3 (ipykernel)",
   "language": "python",
   "name": "python3"
  },
  "language_info": {
   "codemirror_mode": {
    "name": "ipython",
    "version": 3
   },
   "file_extension": ".py",
   "mimetype": "text/x-python",
   "name": "python",
   "nbconvert_exporter": "python",
   "pygments_lexer": "ipython3",
   "version": "3.9.7"
  }
 },
 "nbformat": 4,
 "nbformat_minor": 5
}
